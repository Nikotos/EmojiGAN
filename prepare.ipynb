{
 "cells": [
  {
   "cell_type": "code",
   "execution_count": 139,
   "metadata": {},
   "outputs": [],
   "source": [
    "import cv2\n",
    "import os as os\n",
    "from os import listdir\n",
    "from os.path import isfile, join\n",
    "import json\n",
    "import pickle\n",
    "import torch\n",
    "import matplotlib.pyplot as plt\n",
    "import pandas as pd\n",
    "from PIL import Image\n",
    "import numpy as np\n",
    "import torch.nn as nn\n",
    "import random\n",
    "import time"
   ]
  },
  {
   "cell_type": "code",
   "execution_count": 140,
   "metadata": {},
   "outputs": [],
   "source": [
    "from dataset import *\n",
    "DATASET_PATH = \"data/\"\n",
    "SIZE = 32"
   ]
  },
  {
   "cell_type": "code",
   "execution_count": 133,
   "metadata": {},
   "outputs": [
    {
     "name": "stderr",
     "output_type": "stream",
     "text": [
      "Clipping input data to the valid range for imshow with RGB data ([0..1] for floats or [0..255] for integers).\n"
     ]
    },
    {
     "data": {
      "text/plain": [
       "<matplotlib.image.AxesImage at 0x13194f780>"
      ]
     },
     "execution_count": 133,
     "metadata": {},
     "output_type": "execute_result"
    },
    {
     "data": {
      "image/png": "[encoded data removed]",
      "text/plain": [
       "<Figure size 432x288 with 1 Axes>"
      ]
     },
     "metadata": {},
     "output_type": "display_data"
    }
   ],
   "source": [
    "dataset = EmojiDataset()\n",
    "files = [f for f in listdir(DATASET_PATH)]\n",
    "i = 0\n",
    "for name in files:\n",
    "    if name !=  '.DS_Store':\n",
    "        i+=1\n",
    "        openName = DATASET_PATH + name\n",
    "        img = cv2.imread(openName)\n",
    "        height, width = img.shape[:2]\n",
    "        scalingFactor = SIZE / float(height)\n",
    "        img = cv2.resize(img, None, fx=scalingFactor, fy=scalingFactor, interpolation=cv2.INTER_AREA)\n",
    "        img = (img / 255 - 0.5) * 2\n",
    "        sample = torch.from_numpy(img).type(torch.float)\n",
    "        dataset.add(sample)\n",
    "        \n",
    "saveToFile(dataset, \"dataset.pkl\")\n",
    "plt.imshow(img)"
   ]
  },
  {
   "cell_type": "code",
   "execution_count": 138,
   "metadata": {},
   "outputs": [
    {
     "data": {
      "text/plain": [
       "<matplotlib.image.AxesImage at 0x1319912b0>"
      ]
     },
     "execution_count": 138,
     "metadata": {},
     "output_type": "execute_result"
    },
    {
     "data": {
      "image/png": "[encoded data removed]",
      "text/plain": [
       "<Figure size 432x288 with 1 Axes>"
      ]
     },
     "metadata": {},
     "output_type": "display_data"
    }
   ],
   "source": [
    "dataLoader = MyLoader(dataset, 0, len(dataset) - 1)\n",
    "a = dataLoader.getBatch()\n",
    "a.size()\n",
    "b = a[13].view((3,32,32))\n",
    "b = (b / 2 + 0.5) * 255\n",
    "c = b.view(32,32,3).detach().numpy().astype(np.int)\n",
    "cv2.imwrite(\"test.jpg\",c)\n",
    "plt.imshow(c)"
   ]
  },
  {
   "cell_type": "code",
   "execution_count": 137,
   "metadata": {},
   "outputs": [],
   "source": [
    "saveToFile(dataLoader, \"dataLoader.pkl\")"
   ]
  },
  {
   "cell_type": "code",
   "execution_count": 81,
   "metadata": {},
   "outputs": [
    {
     "data": {
      "text/plain": [
       "tensor([1.0140, 1.0140, 1.0140, 1.0140, 1.0140, 1.0140, 1.0140, 1.0140, 1.0140,\n",
       "        1.0140])"
      ]
     },
     "execution_count": 81,
     "metadata": {},
     "output_type": "execute_result"
    }
   ],
   "source": [
    "def noisyRealLabel():\n",
    "    return np.random.uniform(0.7, 1.2)\n",
    "a = torch.tensor([noisyRealLabel() for i in range(10)])\n",
    "a.fill_(noisyRealLabel())"
   ]
  },
  {
   "cell_type": "code",
   "execution_count": 141,
   "metadata": {},
   "outputs": [
    {
     "data": {
      "text/plain": [
       "<matplotlib.image.AxesImage at 0x131f08a58>"
      ]
     },
     "execution_count": 141,
     "metadata": {},
     "output_type": "execute_result"
    },
    {
     "data": {
      "image/png": "[encoded data removed]",
      "text/plain": [
       "<Figure size 432x288 with 1 Axes>"
      ]
     },
     "metadata": {},
     "output_type": "display_data"
    }
   ],
   "source": [
    "dataLoader = loadFromFile(\"dataLoader.pkl\")\n",
    "a = dataLoader.getBatch()\n",
    "b = a[13].view((3,32,32))\n",
    "b = (b / 2 + 0.5) * 255\n",
    "c = b.view(32,32,3).detach().numpy().astype(np.int)\n",
    "cv2.imwrite(\"test.jpg\",c)\n",
    "plt.imshow(c)"
   ]
  },
  {
   "cell_type": "code",
   "execution_count": null,
   "metadata": {},
   "outputs": [],
   "source": []
  }
 ],
 "metadata": {
  "kernelspec": {
   "display_name": "Python 3",
   "language": "python",
   "name": "python3"
  },
  "language_info": {
   "codemirror_mode": {
    "name": "ipython",
    "version": 3
   },
   "file_extension": ".py",
   "mimetype": "text/x-python",
   "name": "python",
   "nbconvert_exporter": "python",
   "pygments_lexer": "ipython3",
   "version": "3.6.5"
  }
 },
 "nbformat": 4,
 "nbformat_minor": 2
}
